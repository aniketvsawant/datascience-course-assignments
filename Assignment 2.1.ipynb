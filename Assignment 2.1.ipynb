{
 "cells": [
  {
   "cell_type": "code",
   "execution_count": 44,
   "metadata": {},
   "outputs": [
    {
     "name": "stdout",
     "output_type": "stream",
     "text": [
      "6\n"
     ]
    }
   ],
   "source": [
    "\"\"\"\n",
    "Task 1 - (1) : Program to implement your own myreduce() function which works exactly like Python's built-in function reduce()\n",
    "\"\"\"\n",
    "def myreduce(fun, seq):\n",
    "  result = seq[0] \n",
    "  for i in seq[1:]:\n",
    "      result = fun(result, i)\n",
    "  return result\n",
    "\n",
    "def sum(x,y): return x + y\n",
    "\n",
    "print (myreduce(sum, [1,2,3]))"
   ]
  },
  {
   "cell_type": "code",
   "execution_count": 45,
   "metadata": {},
   "outputs": [
    {
     "name": "stdout",
     "output_type": "stream",
     "text": [
      "[1, 3, 4, 5]\n"
     ]
    }
   ],
   "source": [
    "\"\"\"\n",
    "Task 1 - (2) : Program to implement your own myfilter() function which works exactly like Python's built-in function filter()\n",
    "\"\"\"\n",
    "def myfilter(fun, seq):\n",
    "    result = []\n",
    "    for i in seq:\n",
    "        if fun(i):\n",
    "           result.append(i)\n",
    "    return result\n",
    "\n",
    "def ispositive(x):\n",
    " if (x <= 0): \n",
    "  return False \n",
    " else: \n",
    "  return True\n",
    "\n",
    "print (myfilter(ispositive, [0,1,-2,3,4,5]))"
   ]
  },
  {
   "cell_type": "code",
   "execution_count": 48,
   "metadata": {},
   "outputs": [
    {
     "name": "stdout",
     "output_type": "stream",
     "text": [
      "['A', 'C', 'A', 'D', 'G', 'I', 'L', 'D']\n",
      "['x', 'xx', 'xxx', 'xxxx', 'y', 'yy', 'yyy', 'yyyy', 'z', 'zz', 'zzz', 'zzzz']\n",
      "['x', 'y', 'z', 'xx', 'yy', 'zz', 'xxx', 'yyy', 'zzz', 'xxxx', 'yyyy', 'zzzz']\n",
      "[[2], [3], [4], [3], [4], [5], [4], [5], [6]]\n",
      "[[2, 3, 4, 5], [3, 4, 5, 6], [4, 5, 6, 7], [5, 6, 7, 8]]\n",
      "[(1, 1), (2, 1), (3, 1), (1, 2), (2, 2), (3, 2), (1, 3), (2, 3), (3, 3)]\n"
     ]
    }
   ],
   "source": [
    "\"\"\"\n",
    "Task 1 - (3) : Implement List comprehensions to produce the following lists.\n",
    "Write List comprehensions to produce the following Lists\n",
    "['A', 'C', 'A', 'D', 'G', 'I', ’L’, ‘ D’]\n",
    "['x', 'xx', 'xxx', 'xxxx', 'y', 'yy', 'yyy', 'yyyy', 'z', 'zz', 'zzz', 'zzzz']\n",
    "['x', 'y', 'z', 'xx', 'yy', 'zz', 'xx', 'yy', 'zz', 'xxxx', 'yyyy', 'zzzz']\n",
    "[[2], [3], [4], [3], [4], [5], [4], [5], [6]]\n",
    "[[2, 3, 4, 5], [3, 4, 5, 6], [4, 5, 6, 7], [5, 6, 7, 8]]\n",
    "[(1, 1), (2, 1), (3, 1), (1, 2), (2, 2), (3, 2), (1, 3), (2, 3), (3, 3)]\n",
    "\"\"\"\n",
    "list = \"ACADGILD\"\n",
    "alphabet_list = [ letter for letter in list ]\n",
    "print (str(alphabet_list))\n",
    "\n",
    "input_list = ['x','y','z']\n",
    "result = [ item*num for item in input_list for num in range(1,5) ]\n",
    "print(str(result))\n",
    "\n",
    "input_list = ['x','y','z']\n",
    "result = [ item*num for num in range(1,5) for item in input_list ]\n",
    "print(str(result))\n",
    "\n",
    "input_list = [2,3,4]\n",
    "result = [ [item+num] for item in input_list for num in range(0,3) ]\n",
    "print(str(result))\n",
    "\n",
    "input_list = [2,3,4,5]\n",
    "result = [ [item+num for item in input_list] for num in range(0,4) ]\n",
    "print(str(result))\n",
    "\n",
    "input_list = [1,2,3]\n",
    "result = [ (b,a) for a in input_list for b in input_list ]\n",
    "print(str(result))"
   ]
  },
  {
   "cell_type": "code",
   "execution_count": 47,
   "metadata": {},
   "outputs": [
    {
     "name": "stdout",
     "output_type": "stream",
     "text": [
      "Longest word in array => datascience\n"
     ]
    }
   ],
   "source": [
    "\"\"\"\n",
    "Task 1 - (3) : Implement a function longestWord() that takes a list of words and returns the longest one.\n",
    "\"\"\"\n",
    "from functools import reduce\n",
    "\n",
    "list_words = [\"This\",\"is\",\"a\",\"datascience\",\"course\"]\n",
    "\n",
    "def longestWord(list_words):\n",
    "    maxLength = 0\n",
    "    longword = \"\"\n",
    "    for word in list_words:\n",
    "        if (len(word) > maxLength):\n",
    "            maxLength = len(word)\n",
    "            longword = word\n",
    "    return longword;\n",
    "\n",
    "print ('Longest word in array => ' + longestWord(list_words) )"
   ]
  },
  {
   "cell_type": "code",
   "execution_count": null,
   "metadata": {},
   "outputs": [],
   "source": []
  },
  {
   "cell_type": "code",
   "execution_count": null,
   "metadata": {},
   "outputs": [],
   "source": []
  }
 ],
 "metadata": {
  "kernelspec": {
   "display_name": "Python 3",
   "language": "python",
   "name": "python3"
  },
  "language_info": {
   "codemirror_mode": {
    "name": "ipython",
    "version": 3
   },
   "file_extension": ".py",
   "mimetype": "text/x-python",
   "name": "python",
   "nbconvert_exporter": "python",
   "pygments_lexer": "ipython3",
   "version": "3.8.2"
  }
 },
 "nbformat": 4,
 "nbformat_minor": 4
}
