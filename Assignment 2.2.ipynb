{
 "cells": [
  {
   "cell_type": "code",
   "execution_count": 7,
   "metadata": {},
   "outputs": [
    {
     "name": "stdout",
     "output_type": "stream",
     "text": [
      "Initialized Child class\n",
      "Initialized Parent class [3,4,5]\n",
      "Area of triangle = 6.0\n"
     ]
    }
   ],
   "source": [
    "\"\"\"\n",
    "Task 2 - (1.1) : Write a Python Program(with class concepts) to find the area of the triangle using the below formula.\n",
    "area = (s*(s-a)*(s-b)*(s-c)) ** 0.5\n",
    "Function to take the length of the sides of triangle from user should be defined in the parent class and function to \n",
    "calculate the area should be defined in subclass.\n",
    "\"\"\"\n",
    "class Triangle:\n",
    "    def __init__(self, side1, side2, side3):\n",
    "        self.side1 = side1\n",
    "        self.side2 = side2\n",
    "        self.side3 = side3\n",
    "        print (\"Initialized Parent class [\" +  str(side1) + \",\" + str(side2) + \",\" + str(side3) + \"]\")\n",
    "\n",
    "class Triangle_Util(Triangle):\n",
    " \n",
    "    def __init__(self, side1, side2, side3):\n",
    "        print (\"Initialized Child class\" )\n",
    "        super(Triangle_Util, self).__init__(side1, side2, side3)\n",
    "\n",
    "    def get_area(self):\n",
    "        s = (self.side1 + self.side2 + self.side3)/2 \n",
    "        return (s * (s-self.side1) * (s-self.side2) * (s-self.side3)) ** 0.5\n",
    "\n",
    "instance = Triangle_Util(3,4,5)\n",
    "print (\"Area of triangle = \" + str(instance.get_area()) )"
   ]
  },
  {
   "cell_type": "code",
   "execution_count": 19,
   "metadata": {},
   "outputs": [
    {
     "name": "stdout",
     "output_type": "stream",
     "text": [
      "Initialized Class\n",
      "New List of Words  => ['This', 'datascience', 'course']\n"
     ]
    }
   ],
   "source": [
    "\"\"\"\n",
    "Task 2 - (1.2) : Write a function filter_long_words() that takes a list of words and an integer n and returns the list\n",
    "of words that are longer than n\n",
    "\"\"\"\n",
    "class List_Util:\n",
    "    def __init__(self, wordlist):\n",
    "        self.wordlist = wordlist\n",
    "        print (\"Initialized Class\")\n",
    "\n",
    "    def filter_long_words(self, n):\n",
    "        longwords = []\n",
    "        for word in self.wordlist:\n",
    "            if (len(word) > n):\n",
    "                longwords.append(word)\n",
    "        return longwords;\n",
    "\n",
    "instance = List_Util([\"This\",\"is\",\"a\",\"datascience\",\"course\"])\n",
    "print (\"New List of Words  => \" + str(instance.filter_long_words(3)) )"
   ]
  },
  {
   "cell_type": "code",
   "execution_count": 20,
   "metadata": {},
   "outputs": [
    {
     "name": "stdout",
     "output_type": "stream",
     "text": [
      "word lengths in array => [4, 2, 1, 11, 6]\n"
     ]
    }
   ],
   "source": [
    "\"\"\"\n",
    "Task 2 - (2.1) : Write a Python program using function concept that maps list of words into a list of integers \n",
    "representing the lengths of the corresponding words.\n",
    "Hint: If a list [ ab,cde,erty] is passed on to the python function output should come as [2,3,4]\n",
    "Here 2,3 and 4 are the lengths of the words in the list.\n",
    "\"\"\"\n",
    "def wordlength(wordlist):\n",
    "    longwords = []\n",
    "    for word in wordlist:\n",
    "        longwords.append(len(word))\n",
    "    return longwords;\n",
    "    \n",
    "#def wordlength(wordlist):\n",
    "#    return list(map(lambda x: len(x), wordlist))\n",
    "\n",
    "wordlist = [\"This\", \"is\", \"a\", \"datascience\", \"course\"]\n",
    "print (\"word lengths in array => \" + str(wordlength(wordlist)))"
   ]
  },
  {
   "cell_type": "code",
   "execution_count": 21,
   "metadata": {},
   "outputs": [
    {
     "name": "stdout",
     "output_type": "stream",
     "text": [
      "Enter a character: a\n",
      "True\n",
      "Enter a character: t\n",
      "False\n"
     ]
    }
   ],
   "source": [
    "\"\"\"\n",
    "Task 2 - (2.2) : Python function which takes a character (i.e. a string of length 1) and returns True if it is\n",
    "a vowel, False otherwise.\n",
    "\"\"\"\n",
    "def vowel_check(string):\n",
    "    vowelstuple = ('a','e','i','o','u')\n",
    "    if string in vowelstuple:\n",
    "        return True\n",
    "    else:\n",
    "        return False\n",
    "\n",
    "string = input(\"Enter a character: \")\n",
    "print(vowel_check(string.lower()))\n",
    "\n",
    "string = input(\"Enter a character: \")\n",
    "print(vowel_check(string.lower()))"
   ]
  },
  {
   "cell_type": "code",
   "execution_count": null,
   "metadata": {},
   "outputs": [],
   "source": []
  }
 ],
 "metadata": {
  "kernelspec": {
   "display_name": "Python 3",
   "language": "python",
   "name": "python3"
  },
  "language_info": {
   "codemirror_mode": {
    "name": "ipython",
    "version": 3
   },
   "file_extension": ".py",
   "mimetype": "text/x-python",
   "name": "python",
   "nbconvert_exporter": "python",
   "pygments_lexer": "ipython3",
   "version": "3.8.2"
  }
 },
 "nbformat": 4,
 "nbformat_minor": 4
}
